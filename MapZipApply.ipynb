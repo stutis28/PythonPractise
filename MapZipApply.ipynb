{
  "nbformat": 4,
  "nbformat_minor": 0,
  "metadata": {
    "colab": {
      "name": "MapZipApply.ipynb",
      "provenance": [],
      "authorship_tag": "ABX9TyMpzS6gppFGDA1qXHcBTB6s",
      "include_colab_link": true
    },
    "kernelspec": {
      "name": "python3",
      "display_name": "Python 3"
    }
  },
  "cells": [
    {
      "cell_type": "markdown",
      "metadata": {
        "id": "view-in-github",
        "colab_type": "text"
      },
      "source": [
        "<a href=\"https://colab.research.google.com/github/stutis28/PythonPractise/blob/master/MapZipApply.ipynb\" target=\"_parent\"><img src=\"https://colab.research.google.com/assets/colab-badge.svg\" alt=\"Open In Colab\"/></a>"
      ]
    },
    {
      "cell_type": "code",
      "metadata": {
        "id": "MSgOl9riXeI2",
        "colab_type": "code",
        "colab": {}
      },
      "source": [
        "# Map function: map() function returns a map object(which is an iterator) \n",
        "# of the results after applying the given function to each item of a given iterable (list, tuple etc.)\n",
        "\n",
        "numbers = [5,2,7,3,4,6,8,1]\n",
        "\n",
        "#Let's make a function that calculates Squares\n",
        "def square_number(x):\n",
        "  return x ** 2"
      ],
      "execution_count": 0,
      "outputs": []
    },
    {
      "cell_type": "code",
      "metadata": {
        "id": "CxVhU_d3ahqz",
        "colab_type": "code",
        "colab": {
          "base_uri": "https://localhost:8080/",
          "height": 34
        },
        "outputId": "f558444f-6bde-4ece-c1dc-678aef11eb99"
      },
      "source": [
        "squares = []\n",
        "\n",
        "for num in numbers:\n",
        "  squares.append(square_number(num))\n",
        "print(squares)"
      ],
      "execution_count": 2,
      "outputs": [
        {
          "output_type": "stream",
          "text": [
            "[25, 4, 49, 9, 16, 36, 64, 1]\n"
          ],
          "name": "stdout"
        }
      ]
    },
    {
      "cell_type": "code",
      "metadata": {
        "id": "lzj_KXObavSF",
        "colab_type": "code",
        "colab": {
          "base_uri": "https://localhost:8080/",
          "height": 34
        },
        "outputId": "f0a4c926-c7a6-42e3-8a71-257caeb277c1"
      },
      "source": [
        "x = map(square_number,numbers)\n",
        "print(list(x))"
      ],
      "execution_count": 4,
      "outputs": [
        {
          "output_type": "stream",
          "text": [
            "[25, 4, 49, 9, 16, 36, 64, 1]\n"
          ],
          "name": "stdout"
        }
      ]
    },
    {
      "cell_type": "code",
      "metadata": {
        "id": "1XopRua6a2MB",
        "colab_type": "code",
        "colab": {
          "base_uri": "https://localhost:8080/",
          "height": 102
        },
        "outputId": "2040e2e9-7fd1-431b-a8c4-42f5cb93b0d9"
      },
      "source": [
        "# Zip Function : Iterates over two or more lists simultaneously\n",
        "a = [5,2,7,3,4]\n",
        "b = [3,8,6,8,1]\n",
        "\n",
        "for x,y in zip(a,b):\n",
        "  print(x*y)"
      ],
      "execution_count": 5,
      "outputs": [
        {
          "output_type": "stream",
          "text": [
            "15\n",
            "16\n",
            "42\n",
            "24\n",
            "4\n"
          ],
          "name": "stdout"
        }
      ]
    },
    {
      "cell_type": "code",
      "metadata": {
        "id": "U5eO0KEkbh_Z",
        "colab_type": "code",
        "colab": {}
      },
      "source": [
        ""
      ],
      "execution_count": 0,
      "outputs": []
    }
  ]
}